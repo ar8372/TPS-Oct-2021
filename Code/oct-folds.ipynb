{
 "cells": [
  {
   "cell_type": "code",
   "execution_count": 1,
   "id": "3c802d12",
   "metadata": {
    "_cell_guid": "b1076dfc-b9ad-4769-8c92-a6c4dae69d19",
    "_uuid": "8f2839f25d086af736a60e9eeb907d3b93b6e0e5",
    "execution": {
     "iopub.execute_input": "2021-10-10T07:18:15.339979Z",
     "iopub.status.busy": "2021-10-10T07:18:15.338319Z",
     "iopub.status.idle": "2021-10-10T07:18:16.106516Z",
     "shell.execute_reply": "2021-10-10T07:18:16.105744Z",
     "shell.execute_reply.started": "2021-10-10T06:50:18.002646Z"
    },
    "papermill": {
     "duration": 0.784415,
     "end_time": "2021-10-10T07:18:16.106691",
     "exception": false,
     "start_time": "2021-10-10T07:18:15.322276",
     "status": "completed"
    },
    "tags": []
   },
   "outputs": [],
   "source": [
    "import numpy as np\n",
    "import pandas as pd \n",
    "from sklearn.model_selection import KFold"
   ]
  },
  {
   "cell_type": "code",
   "execution_count": 2,
   "id": "0075d687",
   "metadata": {
    "execution": {
     "iopub.execute_input": "2021-10-10T07:18:16.132631Z",
     "iopub.status.busy": "2021-10-10T07:18:16.132007Z",
     "iopub.status.idle": "2021-10-10T07:19:08.212455Z",
     "shell.execute_reply": "2021-10-10T07:19:08.211923Z",
     "shell.execute_reply.started": "2021-10-10T06:50:40.820543Z"
    },
    "papermill": {
     "duration": 52.094085,
     "end_time": "2021-10-10T07:19:08.212613",
     "exception": false,
     "start_time": "2021-10-10T07:18:16.118528",
     "status": "completed"
    },
    "tags": []
   },
   "outputs": [],
   "source": [
    "train_data = pd.read_csv('../input/tabular-playground-series-oct-2021/train.csv')"
   ]
  },
  {
   "cell_type": "code",
   "execution_count": 3,
   "id": "5f727cda",
   "metadata": {
    "execution": {
     "iopub.execute_input": "2021-10-10T07:19:08.246459Z",
     "iopub.status.busy": "2021-10-10T07:19:08.245501Z",
     "iopub.status.idle": "2021-10-10T07:19:08.264813Z",
     "shell.execute_reply": "2021-10-10T07:19:08.265264Z",
     "shell.execute_reply.started": "2021-10-10T06:51:33.902246Z"
    },
    "papermill": {
     "duration": 0.041895,
     "end_time": "2021-10-10T07:19:08.265422",
     "exception": false,
     "start_time": "2021-10-10T07:19:08.223527",
     "status": "completed"
    },
    "tags": []
   },
   "outputs": [
    {
     "data": {
      "text/html": [
       "<div>\n",
       "<style scoped>\n",
       "    .dataframe tbody tr th:only-of-type {\n",
       "        vertical-align: middle;\n",
       "    }\n",
       "\n",
       "    .dataframe tbody tr th {\n",
       "        vertical-align: top;\n",
       "    }\n",
       "\n",
       "    .dataframe thead th {\n",
       "        text-align: right;\n",
       "    }\n",
       "</style>\n",
       "<table border=\"1\" class=\"dataframe\">\n",
       "  <thead>\n",
       "    <tr style=\"text-align: right;\">\n",
       "      <th></th>\n",
       "      <th>id</th>\n",
       "      <th>f0</th>\n",
       "      <th>f1</th>\n",
       "      <th>f2</th>\n",
       "      <th>f3</th>\n",
       "      <th>f4</th>\n",
       "      <th>f5</th>\n",
       "      <th>f6</th>\n",
       "      <th>f7</th>\n",
       "      <th>f8</th>\n",
       "      <th>...</th>\n",
       "      <th>f276</th>\n",
       "      <th>f277</th>\n",
       "      <th>f278</th>\n",
       "      <th>f279</th>\n",
       "      <th>f280</th>\n",
       "      <th>f281</th>\n",
       "      <th>f282</th>\n",
       "      <th>f283</th>\n",
       "      <th>f284</th>\n",
       "      <th>target</th>\n",
       "    </tr>\n",
       "  </thead>\n",
       "  <tbody>\n",
       "    <tr>\n",
       "      <th>0</th>\n",
       "      <td>0</td>\n",
       "      <td>0.205979</td>\n",
       "      <td>0.410993</td>\n",
       "      <td>0.176775</td>\n",
       "      <td>0.223581</td>\n",
       "      <td>0.423543</td>\n",
       "      <td>0.476140</td>\n",
       "      <td>0.413590</td>\n",
       "      <td>0.612021</td>\n",
       "      <td>0.534873</td>\n",
       "      <td>...</td>\n",
       "      <td>0</td>\n",
       "      <td>1</td>\n",
       "      <td>0</td>\n",
       "      <td>0</td>\n",
       "      <td>0</td>\n",
       "      <td>0</td>\n",
       "      <td>0</td>\n",
       "      <td>0</td>\n",
       "      <td>0</td>\n",
       "      <td>1</td>\n",
       "    </tr>\n",
       "    <tr>\n",
       "      <th>1</th>\n",
       "      <td>1</td>\n",
       "      <td>0.181004</td>\n",
       "      <td>0.473119</td>\n",
       "      <td>0.011734</td>\n",
       "      <td>0.213657</td>\n",
       "      <td>0.619678</td>\n",
       "      <td>0.441593</td>\n",
       "      <td>0.230407</td>\n",
       "      <td>0.686013</td>\n",
       "      <td>0.281971</td>\n",
       "      <td>...</td>\n",
       "      <td>0</td>\n",
       "      <td>1</td>\n",
       "      <td>0</td>\n",
       "      <td>0</td>\n",
       "      <td>0</td>\n",
       "      <td>0</td>\n",
       "      <td>0</td>\n",
       "      <td>0</td>\n",
       "      <td>0</td>\n",
       "      <td>1</td>\n",
       "    </tr>\n",
       "    <tr>\n",
       "      <th>2</th>\n",
       "      <td>2</td>\n",
       "      <td>0.182583</td>\n",
       "      <td>0.307431</td>\n",
       "      <td>0.325950</td>\n",
       "      <td>0.207116</td>\n",
       "      <td>0.605699</td>\n",
       "      <td>0.309695</td>\n",
       "      <td>0.493337</td>\n",
       "      <td>0.751107</td>\n",
       "      <td>0.536272</td>\n",
       "      <td>...</td>\n",
       "      <td>0</td>\n",
       "      <td>0</td>\n",
       "      <td>0</td>\n",
       "      <td>1</td>\n",
       "      <td>1</td>\n",
       "      <td>0</td>\n",
       "      <td>0</td>\n",
       "      <td>0</td>\n",
       "      <td>0</td>\n",
       "      <td>1</td>\n",
       "    </tr>\n",
       "    <tr>\n",
       "      <th>3</th>\n",
       "      <td>3</td>\n",
       "      <td>0.180240</td>\n",
       "      <td>0.494592</td>\n",
       "      <td>0.008367</td>\n",
       "      <td>0.223580</td>\n",
       "      <td>0.760618</td>\n",
       "      <td>0.439211</td>\n",
       "      <td>0.432055</td>\n",
       "      <td>0.776147</td>\n",
       "      <td>0.483958</td>\n",
       "      <td>...</td>\n",
       "      <td>0</td>\n",
       "      <td>0</td>\n",
       "      <td>0</td>\n",
       "      <td>0</td>\n",
       "      <td>1</td>\n",
       "      <td>0</td>\n",
       "      <td>0</td>\n",
       "      <td>0</td>\n",
       "      <td>0</td>\n",
       "      <td>1</td>\n",
       "    </tr>\n",
       "    <tr>\n",
       "      <th>4</th>\n",
       "      <td>4</td>\n",
       "      <td>0.177172</td>\n",
       "      <td>0.495513</td>\n",
       "      <td>0.014263</td>\n",
       "      <td>0.548819</td>\n",
       "      <td>0.625396</td>\n",
       "      <td>0.562493</td>\n",
       "      <td>0.117158</td>\n",
       "      <td>0.561255</td>\n",
       "      <td>0.077115</td>\n",
       "      <td>...</td>\n",
       "      <td>0</td>\n",
       "      <td>1</td>\n",
       "      <td>1</td>\n",
       "      <td>0</td>\n",
       "      <td>1</td>\n",
       "      <td>0</td>\n",
       "      <td>0</td>\n",
       "      <td>1</td>\n",
       "      <td>0</td>\n",
       "      <td>1</td>\n",
       "    </tr>\n",
       "  </tbody>\n",
       "</table>\n",
       "<p>5 rows × 287 columns</p>\n",
       "</div>"
      ],
      "text/plain": [
       "   id        f0        f1        f2        f3        f4        f5        f6  \\\n",
       "0   0  0.205979  0.410993  0.176775  0.223581  0.423543  0.476140  0.413590   \n",
       "1   1  0.181004  0.473119  0.011734  0.213657  0.619678  0.441593  0.230407   \n",
       "2   2  0.182583  0.307431  0.325950  0.207116  0.605699  0.309695  0.493337   \n",
       "3   3  0.180240  0.494592  0.008367  0.223580  0.760618  0.439211  0.432055   \n",
       "4   4  0.177172  0.495513  0.014263  0.548819  0.625396  0.562493  0.117158   \n",
       "\n",
       "         f7        f8  ...  f276  f277  f278  f279  f280  f281  f282  f283  \\\n",
       "0  0.612021  0.534873  ...     0     1     0     0     0     0     0     0   \n",
       "1  0.686013  0.281971  ...     0     1     0     0     0     0     0     0   \n",
       "2  0.751107  0.536272  ...     0     0     0     1     1     0     0     0   \n",
       "3  0.776147  0.483958  ...     0     0     0     0     1     0     0     0   \n",
       "4  0.561255  0.077115  ...     0     1     1     0     1     0     0     1   \n",
       "\n",
       "   f284  target  \n",
       "0     0       1  \n",
       "1     0       1  \n",
       "2     0       1  \n",
       "3     0       1  \n",
       "4     0       1  \n",
       "\n",
       "[5 rows x 287 columns]"
      ]
     },
     "execution_count": 3,
     "metadata": {},
     "output_type": "execute_result"
    }
   ],
   "source": [
    "train_data.head()"
   ]
  },
  {
   "cell_type": "code",
   "execution_count": 4,
   "id": "8226eff4",
   "metadata": {
    "execution": {
     "iopub.execute_input": "2021-10-10T07:19:08.292462Z",
     "iopub.status.busy": "2021-10-10T07:19:08.291535Z",
     "iopub.status.idle": "2021-10-10T07:19:08.296341Z",
     "shell.execute_reply": "2021-10-10T07:19:08.296920Z",
     "shell.execute_reply.started": "2021-10-10T06:51:33.935242Z"
    },
    "papermill": {
     "duration": 0.020377,
     "end_time": "2021-10-10T07:19:08.297088",
     "exception": false,
     "start_time": "2021-10-10T07:19:08.276711",
     "status": "completed"
    },
    "tags": []
   },
   "outputs": [
    {
     "data": {
      "text/plain": [
       "(1000000, 287)"
      ]
     },
     "execution_count": 4,
     "metadata": {},
     "output_type": "execute_result"
    }
   ],
   "source": [
    "train_data.shape"
   ]
  },
  {
   "cell_type": "code",
   "execution_count": 5,
   "id": "48d2194e",
   "metadata": {
    "execution": {
     "iopub.execute_input": "2021-10-10T07:19:08.324148Z",
     "iopub.status.busy": "2021-10-10T07:19:08.323260Z",
     "iopub.status.idle": "2021-10-10T07:19:08.327744Z",
     "shell.execute_reply": "2021-10-10T07:19:08.328310Z",
     "shell.execute_reply.started": "2021-10-10T06:57:46.800629Z"
    },
    "papermill": {
     "duration": 0.020022,
     "end_time": "2021-10-10T07:19:08.328478",
     "exception": false,
     "start_time": "2021-10-10T07:19:08.308456",
     "status": "completed"
    },
    "tags": []
   },
   "outputs": [
    {
     "data": {
      "text/plain": [
       "100000"
      ]
     },
     "execution_count": 5,
     "metadata": {},
     "output_type": "execute_result"
    }
   ],
   "source": [
    "1000000//10  # we will make 20 folds"
   ]
  },
  {
   "cell_type": "code",
   "execution_count": 6,
   "id": "9c4616c8",
   "metadata": {
    "execution": {
     "iopub.execute_input": "2021-10-10T07:19:08.355948Z",
     "iopub.status.busy": "2021-10-10T07:19:08.354489Z",
     "iopub.status.idle": "2021-10-10T07:19:08.357645Z",
     "shell.execute_reply": "2021-10-10T07:19:08.358057Z",
     "shell.execute_reply.started": "2021-10-10T07:07:30.402044Z"
    },
    "papermill": {
     "duration": 0.018311,
     "end_time": "2021-10-10T07:19:08.358230",
     "exception": false,
     "start_time": "2021-10-10T07:19:08.339919",
     "status": "completed"
    },
    "tags": []
   },
   "outputs": [],
   "source": [
    "kf = KFold(n_splits=10, shuffle=True, random_state=202)"
   ]
  },
  {
   "cell_type": "code",
   "execution_count": 7,
   "id": "b4bbd02a",
   "metadata": {
    "execution": {
     "iopub.execute_input": "2021-10-10T07:19:08.387470Z",
     "iopub.status.busy": "2021-10-10T07:19:08.385158Z",
     "iopub.status.idle": "2021-10-10T07:19:08.393985Z",
     "shell.execute_reply": "2021-10-10T07:19:08.393412Z",
     "shell.execute_reply.started": "2021-10-10T07:07:32.680820Z"
    },
    "papermill": {
     "duration": 0.024105,
     "end_time": "2021-10-10T07:19:08.394114",
     "exception": false,
     "start_time": "2021-10-10T07:19:08.370009",
     "status": "completed"
    },
    "tags": []
   },
   "outputs": [],
   "source": [
    "train_data['fold'] = -1"
   ]
  },
  {
   "cell_type": "code",
   "execution_count": 8,
   "id": "cd6c8086",
   "metadata": {
    "execution": {
     "iopub.execute_input": "2021-10-10T07:19:08.421078Z",
     "iopub.status.busy": "2021-10-10T07:19:08.420244Z",
     "iopub.status.idle": "2021-10-10T07:19:08.436980Z",
     "shell.execute_reply": "2021-10-10T07:19:08.437456Z",
     "shell.execute_reply.started": "2021-10-10T07:07:33.974461Z"
    },
    "papermill": {
     "duration": 0.031694,
     "end_time": "2021-10-10T07:19:08.437612",
     "exception": false,
     "start_time": "2021-10-10T07:19:08.405918",
     "status": "completed"
    },
    "tags": []
   },
   "outputs": [
    {
     "data": {
      "text/html": [
       "<div>\n",
       "<style scoped>\n",
       "    .dataframe tbody tr th:only-of-type {\n",
       "        vertical-align: middle;\n",
       "    }\n",
       "\n",
       "    .dataframe tbody tr th {\n",
       "        vertical-align: top;\n",
       "    }\n",
       "\n",
       "    .dataframe thead th {\n",
       "        text-align: right;\n",
       "    }\n",
       "</style>\n",
       "<table border=\"1\" class=\"dataframe\">\n",
       "  <thead>\n",
       "    <tr style=\"text-align: right;\">\n",
       "      <th></th>\n",
       "      <th>id</th>\n",
       "      <th>f0</th>\n",
       "      <th>f1</th>\n",
       "      <th>f2</th>\n",
       "      <th>f3</th>\n",
       "      <th>f4</th>\n",
       "      <th>f5</th>\n",
       "      <th>f6</th>\n",
       "      <th>f7</th>\n",
       "      <th>f8</th>\n",
       "      <th>...</th>\n",
       "      <th>f277</th>\n",
       "      <th>f278</th>\n",
       "      <th>f279</th>\n",
       "      <th>f280</th>\n",
       "      <th>f281</th>\n",
       "      <th>f282</th>\n",
       "      <th>f283</th>\n",
       "      <th>f284</th>\n",
       "      <th>target</th>\n",
       "      <th>fold</th>\n",
       "    </tr>\n",
       "  </thead>\n",
       "  <tbody>\n",
       "    <tr>\n",
       "      <th>0</th>\n",
       "      <td>0</td>\n",
       "      <td>0.205979</td>\n",
       "      <td>0.410993</td>\n",
       "      <td>0.176775</td>\n",
       "      <td>0.223581</td>\n",
       "      <td>0.423543</td>\n",
       "      <td>0.476140</td>\n",
       "      <td>0.413590</td>\n",
       "      <td>0.612021</td>\n",
       "      <td>0.534873</td>\n",
       "      <td>...</td>\n",
       "      <td>1</td>\n",
       "      <td>0</td>\n",
       "      <td>0</td>\n",
       "      <td>0</td>\n",
       "      <td>0</td>\n",
       "      <td>0</td>\n",
       "      <td>0</td>\n",
       "      <td>0</td>\n",
       "      <td>1</td>\n",
       "      <td>-1</td>\n",
       "    </tr>\n",
       "    <tr>\n",
       "      <th>1</th>\n",
       "      <td>1</td>\n",
       "      <td>0.181004</td>\n",
       "      <td>0.473119</td>\n",
       "      <td>0.011734</td>\n",
       "      <td>0.213657</td>\n",
       "      <td>0.619678</td>\n",
       "      <td>0.441593</td>\n",
       "      <td>0.230407</td>\n",
       "      <td>0.686013</td>\n",
       "      <td>0.281971</td>\n",
       "      <td>...</td>\n",
       "      <td>1</td>\n",
       "      <td>0</td>\n",
       "      <td>0</td>\n",
       "      <td>0</td>\n",
       "      <td>0</td>\n",
       "      <td>0</td>\n",
       "      <td>0</td>\n",
       "      <td>0</td>\n",
       "      <td>1</td>\n",
       "      <td>-1</td>\n",
       "    </tr>\n",
       "  </tbody>\n",
       "</table>\n",
       "<p>2 rows × 288 columns</p>\n",
       "</div>"
      ],
      "text/plain": [
       "   id        f0        f1        f2        f3        f4        f5        f6  \\\n",
       "0   0  0.205979  0.410993  0.176775  0.223581  0.423543  0.476140  0.413590   \n",
       "1   1  0.181004  0.473119  0.011734  0.213657  0.619678  0.441593  0.230407   \n",
       "\n",
       "         f7        f8  ...  f277  f278  f279  f280  f281  f282  f283  f284  \\\n",
       "0  0.612021  0.534873  ...     1     0     0     0     0     0     0     0   \n",
       "1  0.686013  0.281971  ...     1     0     0     0     0     0     0     0   \n",
       "\n",
       "   target  fold  \n",
       "0       1    -1  \n",
       "1       1    -1  \n",
       "\n",
       "[2 rows x 288 columns]"
      ]
     },
     "execution_count": 8,
     "metadata": {},
     "output_type": "execute_result"
    }
   ],
   "source": [
    "train_data.head(2)"
   ]
  },
  {
   "cell_type": "code",
   "execution_count": 9,
   "id": "ac81f377",
   "metadata": {
    "execution": {
     "iopub.execute_input": "2021-10-10T07:19:08.466805Z",
     "iopub.status.busy": "2021-10-10T07:19:08.464756Z",
     "iopub.status.idle": "2021-10-10T07:19:08.679999Z",
     "shell.execute_reply": "2021-10-10T07:19:08.680509Z",
     "shell.execute_reply.started": "2021-10-10T07:07:35.140743Z"
    },
    "papermill": {
     "duration": 0.231176,
     "end_time": "2021-10-10T07:19:08.680678",
     "exception": false,
     "start_time": "2021-10-10T07:19:08.449502",
     "status": "completed"
    },
    "tags": []
   },
   "outputs": [],
   "source": [
    "for fold, (train_indices, valid_indices) in enumerate(kf.split(train_data)):\n",
    "    #print(fold)\n",
    "    train_data.loc[valid_indices,'fold'] = fold"
   ]
  },
  {
   "cell_type": "code",
   "execution_count": 10,
   "id": "38a5981a",
   "metadata": {
    "execution": {
     "iopub.execute_input": "2021-10-10T07:19:08.708900Z",
     "iopub.status.busy": "2021-10-10T07:19:08.707925Z",
     "iopub.status.idle": "2021-10-10T07:19:08.725942Z",
     "shell.execute_reply": "2021-10-10T07:19:08.725453Z",
     "shell.execute_reply.started": "2021-10-10T07:07:36.039087Z"
    },
    "papermill": {
     "duration": 0.033327,
     "end_time": "2021-10-10T07:19:08.726072",
     "exception": false,
     "start_time": "2021-10-10T07:19:08.692745",
     "status": "completed"
    },
    "tags": []
   },
   "outputs": [
    {
     "data": {
      "text/html": [
       "<div>\n",
       "<style scoped>\n",
       "    .dataframe tbody tr th:only-of-type {\n",
       "        vertical-align: middle;\n",
       "    }\n",
       "\n",
       "    .dataframe tbody tr th {\n",
       "        vertical-align: top;\n",
       "    }\n",
       "\n",
       "    .dataframe thead th {\n",
       "        text-align: right;\n",
       "    }\n",
       "</style>\n",
       "<table border=\"1\" class=\"dataframe\">\n",
       "  <thead>\n",
       "    <tr style=\"text-align: right;\">\n",
       "      <th></th>\n",
       "      <th>id</th>\n",
       "      <th>f0</th>\n",
       "      <th>f1</th>\n",
       "      <th>f2</th>\n",
       "      <th>f3</th>\n",
       "      <th>f4</th>\n",
       "      <th>f5</th>\n",
       "      <th>f6</th>\n",
       "      <th>f7</th>\n",
       "      <th>f8</th>\n",
       "      <th>...</th>\n",
       "      <th>f277</th>\n",
       "      <th>f278</th>\n",
       "      <th>f279</th>\n",
       "      <th>f280</th>\n",
       "      <th>f281</th>\n",
       "      <th>f282</th>\n",
       "      <th>f283</th>\n",
       "      <th>f284</th>\n",
       "      <th>target</th>\n",
       "      <th>fold</th>\n",
       "    </tr>\n",
       "  </thead>\n",
       "  <tbody>\n",
       "    <tr>\n",
       "      <th>0</th>\n",
       "      <td>0</td>\n",
       "      <td>0.205979</td>\n",
       "      <td>0.410993</td>\n",
       "      <td>0.176775</td>\n",
       "      <td>0.223581</td>\n",
       "      <td>0.423543</td>\n",
       "      <td>0.476140</td>\n",
       "      <td>0.413590</td>\n",
       "      <td>0.612021</td>\n",
       "      <td>0.534873</td>\n",
       "      <td>...</td>\n",
       "      <td>1</td>\n",
       "      <td>0</td>\n",
       "      <td>0</td>\n",
       "      <td>0</td>\n",
       "      <td>0</td>\n",
       "      <td>0</td>\n",
       "      <td>0</td>\n",
       "      <td>0</td>\n",
       "      <td>1</td>\n",
       "      <td>1</td>\n",
       "    </tr>\n",
       "    <tr>\n",
       "      <th>1</th>\n",
       "      <td>1</td>\n",
       "      <td>0.181004</td>\n",
       "      <td>0.473119</td>\n",
       "      <td>0.011734</td>\n",
       "      <td>0.213657</td>\n",
       "      <td>0.619678</td>\n",
       "      <td>0.441593</td>\n",
       "      <td>0.230407</td>\n",
       "      <td>0.686013</td>\n",
       "      <td>0.281971</td>\n",
       "      <td>...</td>\n",
       "      <td>1</td>\n",
       "      <td>0</td>\n",
       "      <td>0</td>\n",
       "      <td>0</td>\n",
       "      <td>0</td>\n",
       "      <td>0</td>\n",
       "      <td>0</td>\n",
       "      <td>0</td>\n",
       "      <td>1</td>\n",
       "      <td>9</td>\n",
       "    </tr>\n",
       "    <tr>\n",
       "      <th>2</th>\n",
       "      <td>2</td>\n",
       "      <td>0.182583</td>\n",
       "      <td>0.307431</td>\n",
       "      <td>0.325950</td>\n",
       "      <td>0.207116</td>\n",
       "      <td>0.605699</td>\n",
       "      <td>0.309695</td>\n",
       "      <td>0.493337</td>\n",
       "      <td>0.751107</td>\n",
       "      <td>0.536272</td>\n",
       "      <td>...</td>\n",
       "      <td>0</td>\n",
       "      <td>0</td>\n",
       "      <td>1</td>\n",
       "      <td>1</td>\n",
       "      <td>0</td>\n",
       "      <td>0</td>\n",
       "      <td>0</td>\n",
       "      <td>0</td>\n",
       "      <td>1</td>\n",
       "      <td>3</td>\n",
       "    </tr>\n",
       "  </tbody>\n",
       "</table>\n",
       "<p>3 rows × 288 columns</p>\n",
       "</div>"
      ],
      "text/plain": [
       "   id        f0        f1        f2        f3        f4        f5        f6  \\\n",
       "0   0  0.205979  0.410993  0.176775  0.223581  0.423543  0.476140  0.413590   \n",
       "1   1  0.181004  0.473119  0.011734  0.213657  0.619678  0.441593  0.230407   \n",
       "2   2  0.182583  0.307431  0.325950  0.207116  0.605699  0.309695  0.493337   \n",
       "\n",
       "         f7        f8  ...  f277  f278  f279  f280  f281  f282  f283  f284  \\\n",
       "0  0.612021  0.534873  ...     1     0     0     0     0     0     0     0   \n",
       "1  0.686013  0.281971  ...     1     0     0     0     0     0     0     0   \n",
       "2  0.751107  0.536272  ...     0     0     1     1     0     0     0     0   \n",
       "\n",
       "   target  fold  \n",
       "0       1     1  \n",
       "1       1     9  \n",
       "2       1     3  \n",
       "\n",
       "[3 rows x 288 columns]"
      ]
     },
     "execution_count": 10,
     "metadata": {},
     "output_type": "execute_result"
    }
   ],
   "source": [
    "train_data.head(3)"
   ]
  },
  {
   "cell_type": "code",
   "execution_count": 11,
   "id": "1ca46297",
   "metadata": {
    "execution": {
     "iopub.execute_input": "2021-10-10T07:19:08.755869Z",
     "iopub.status.busy": "2021-10-10T07:19:08.753446Z",
     "iopub.status.idle": "2021-10-10T07:19:08.768879Z",
     "shell.execute_reply": "2021-10-10T07:19:08.768418Z",
     "shell.execute_reply.started": "2021-10-10T07:07:37.054399Z"
    },
    "papermill": {
     "duration": 0.03055,
     "end_time": "2021-10-10T07:19:08.769009",
     "exception": false,
     "start_time": "2021-10-10T07:19:08.738459",
     "status": "completed"
    },
    "tags": []
   },
   "outputs": [
    {
     "data": {
      "text/plain": [
       "1    500485\n",
       "0    499515\n",
       "Name: target, dtype: int64"
      ]
     },
     "execution_count": 11,
     "metadata": {},
     "output_type": "execute_result"
    }
   ],
   "source": [
    "train_data['target'].value_counts()"
   ]
  },
  {
   "cell_type": "code",
   "execution_count": 12,
   "id": "ba3dbe91",
   "metadata": {
    "execution": {
     "iopub.execute_input": "2021-10-10T07:19:08.797189Z",
     "iopub.status.busy": "2021-10-10T07:19:08.796601Z",
     "iopub.status.idle": "2021-10-10T07:19:09.075985Z",
     "shell.execute_reply": "2021-10-10T07:19:09.076857Z",
     "shell.execute_reply.started": "2021-10-10T07:07:40.294961Z"
    },
    "papermill": {
     "duration": 0.2952,
     "end_time": "2021-10-10T07:19:09.077040",
     "exception": false,
     "start_time": "2021-10-10T07:19:08.781840",
     "status": "completed"
    },
    "tags": []
   },
   "outputs": [
    {
     "data": {
      "text/plain": [
       "<AxesSubplot:>"
      ]
     },
     "execution_count": 12,
     "metadata": {},
     "output_type": "execute_result"
    },
    {
     "data": {
      "image/png": "[encoded data removed]",
      "text/plain": [
       "<Figure size 432x288 with 1 Axes>"
      ]
     },
     "metadata": {
      "needs_background": "light"
     },
     "output_type": "display_data"
    }
   ],
   "source": [
    "train_data['target'].hist()"
   ]
  },
  {
   "cell_type": "code",
   "execution_count": 13,
   "id": "50d80926",
   "metadata": {
    "execution": {
     "iopub.execute_input": "2021-10-10T07:19:09.107716Z",
     "iopub.status.busy": "2021-10-10T07:19:09.107089Z",
     "iopub.status.idle": "2021-10-10T07:19:09.324583Z",
     "shell.execute_reply": "2021-10-10T07:19:09.325004Z",
     "shell.execute_reply.started": "2021-10-10T07:08:45.533933Z"
    },
    "papermill": {
     "duration": 0.234255,
     "end_time": "2021-10-10T07:19:09.325190",
     "exception": false,
     "start_time": "2021-10-10T07:19:09.090935",
     "status": "completed"
    },
    "tags": []
   },
   "outputs": [
    {
     "data": {
      "text/plain": [
       "<AxesSubplot:>"
      ]
     },
     "execution_count": 13,
     "metadata": {},
     "output_type": "execute_result"
    },
    {
     "data": {
      "image/png": "[encoded data removed]",
      "text/plain": [
       "<Figure size 432x288 with 1 Axes>"
      ]
     },
     "metadata": {
      "needs_background": "light"
     },
     "output_type": "display_data"
    }
   ],
   "source": [
    "train_data.loc[train_data['fold']==9,'target'].hist()"
   ]
  },
  {
   "cell_type": "code",
   "execution_count": 14,
   "id": "d4cc5d22",
   "metadata": {
    "execution": {
     "iopub.execute_input": "2021-10-10T07:19:09.357086Z",
     "iopub.status.busy": "2021-10-10T07:19:09.356548Z",
     "iopub.status.idle": "2021-10-10T07:19:09.500984Z",
     "shell.execute_reply": "2021-10-10T07:19:09.501449Z",
     "shell.execute_reply.started": "2021-10-10T07:08:50.439874Z"
    },
    "papermill": {
     "duration": 0.162022,
     "end_time": "2021-10-10T07:19:09.501614",
     "exception": false,
     "start_time": "2021-10-10T07:19:09.339592",
     "status": "completed"
    },
    "tags": []
   },
   "outputs": [
    {
     "data": {
      "text/plain": [
       "fold  target\n",
       "0     1         0.50341\n",
       "      0         0.49659\n",
       "1     0         0.50162\n",
       "      1         0.49838\n",
       "2     1         0.50015\n",
       "      0         0.49985\n",
       "3     1         0.50127\n",
       "      0         0.49873\n",
       "4     1         0.50092\n",
       "      0         0.49908\n",
       "5     0         0.50009\n",
       "      1         0.49991\n",
       "6     1         0.50136\n",
       "      0         0.49864\n",
       "7     0         0.50012\n",
       "      1         0.49988\n",
       "8     0         0.50060\n",
       "      1         0.49940\n",
       "9     1         0.50017\n",
       "      0         0.49983\n",
       "Name: target, dtype: float64"
      ]
     },
     "execution_count": 14,
     "metadata": {},
     "output_type": "execute_result"
    }
   ],
   "source": [
    "train_data.groupby(\"fold\")['target'].value_counts(normalize=True)"
   ]
  },
  {
   "cell_type": "code",
   "execution_count": 15,
   "id": "8d61252e",
   "metadata": {
    "execution": {
     "iopub.execute_input": "2021-10-10T07:19:09.540575Z",
     "iopub.status.busy": "2021-10-10T07:19:09.539987Z",
     "iopub.status.idle": "2021-10-10T07:19:09.543854Z",
     "shell.execute_reply": "2021-10-10T07:19:09.544324Z",
     "shell.execute_reply.started": "2021-10-10T07:09:22.959301Z"
    },
    "papermill": {
     "duration": 0.028238,
     "end_time": "2021-10-10T07:19:09.544479",
     "exception": false,
     "start_time": "2021-10-10T07:19:09.516241",
     "status": "completed"
    },
    "tags": []
   },
   "outputs": [
    {
     "data": {
      "text/plain": [
       "1    500485\n",
       "0    499515\n",
       "Name: target, dtype: int64"
      ]
     },
     "execution_count": 15,
     "metadata": {},
     "output_type": "execute_result"
    }
   ],
   "source": [
    "train_data['target'].value_counts()"
   ]
  },
  {
   "cell_type": "code",
   "execution_count": 16,
   "id": "84d8a443",
   "metadata": {
    "execution": {
     "iopub.execute_input": "2021-10-10T07:19:09.577036Z",
     "iopub.status.busy": "2021-10-10T07:19:09.576474Z",
     "iopub.status.idle": "2021-10-10T07:22:52.087787Z",
     "shell.execute_reply": "2021-10-10T07:22:52.088540Z",
     "shell.execute_reply.started": "2021-10-10T07:10:55.800315Z"
    },
    "papermill": {
     "duration": 222.529726,
     "end_time": "2021-10-10T07:22:52.089005",
     "exception": false,
     "start_time": "2021-10-10T07:19:09.559279",
     "status": "completed"
    },
    "tags": []
   },
   "outputs": [],
   "source": [
    "train_data.to_csv('Oct_folds.csv',index=False)"
   ]
  },
  {
   "cell_type": "code",
   "execution_count": null,
   "id": "1f0b1a06",
   "metadata": {
    "papermill": {
     "duration": 0.014331,
     "end_time": "2021-10-10T07:22:52.121485",
     "exception": false,
     "start_time": "2021-10-10T07:22:52.107154",
     "status": "completed"
    },
    "tags": []
   },
   "outputs": [],
   "source": []
  }
 ],
 "metadata": {
  "kernelspec": {
   "display_name": "Python 3",
   "language": "python",
   "name": "python3"
  },
  "language_info": {
   "codemirror_mode": {
    "name": "ipython",
    "version": 3
   },
   "file_extension": ".py",
   "mimetype": "text/x-python",
   "name": "python",
   "nbconvert_exporter": "python",
   "pygments_lexer": "ipython3",
   "version": "3.7.10"
  },
  "papermill": {
   "default_parameters": {},
   "duration": 284.762236,
   "end_time": "2021-10-10T07:22:53.510398",
   "environment_variables": {},
   "exception": null,
   "input_path": "__notebook__.ipynb",
   "output_path": "__notebook__.ipynb",
   "parameters": {},
   "start_time": "2021-10-10T07:18:08.748162",
   "version": "2.3.3"
  }
 },
 "nbformat": 4,
 "nbformat_minor": 5
}
